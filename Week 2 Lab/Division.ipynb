{
 "cells": [
  {
   "cell_type": "code",
   "execution_count": null,
   "metadata": {
    "collapsed": true
   },
   "outputs": [],
   "source": [
    "# Input 2 integers\n",
    "\n",
    "Num1 = int(input(\"Enter your first value\\n \"))\n",
    "Num2 = int(input(\"Enter your second value\\n \"))\n",
    "\n",
    "# division and remainder\n",
    "\n",
    "Quotient = Num1 // Num2\n",
    "Rem = Num1 % Num2\n",
    "\n",
    "print(\"The Quotient is \"+str(Quotient)+\" and the remainder is \"+str(Rem))\n",
    "\n",
    "\n"
   ]
  }
 ],
 "metadata": {
  "kernelspec": {
   "display_name": "Python 2",
   "language": "python",
   "name": "python2"
  },
  "language_info": {
   "codemirror_mode": {
    "name": "ipython",
    "version": 2.0
   },
   "file_extension": ".py",
   "mimetype": "text/x-python",
   "name": "python",
   "nbconvert_exporter": "python",
   "pygments_lexer": "ipython2",
   "version": "2.7.6"
  }
 },
 "nbformat": 4,
 "nbformat_minor": 0
}